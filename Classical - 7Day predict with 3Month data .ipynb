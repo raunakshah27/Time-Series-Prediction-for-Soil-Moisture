{
  "nbformat": 4,
  "nbformat_minor": 0,
  "metadata": {
    "colab": {
      "provenance": []
    },
    "kernelspec": {
      "name": "python3",
      "display_name": "Python 3"
    },
    "language_info": {
      "name": "python"
    }
  },
  "cells": [
    {
      "cell_type": "markdown",
      "source": [
        "Installing the SciKit Modules"
      ],
      "metadata": {
        "id": "Pkmvt9xOIeAP"
      }
    },
    {
      "cell_type": "code",
      "execution_count": null,
      "metadata": {
        "id": "pILgqKEfn2KX"
      },
      "outputs": [],
      "source": [
        "!pip install -U scikit-learn"
      ]
    },
    {
      "cell_type": "markdown",
      "source": [
        "Importing Necessary Libraries"
      ],
      "metadata": {
        "id": "xa56B5_jKe5n"
      }
    },
    {
      "cell_type": "code",
      "source": [
        "import pandas as pd\n",
        "import numpy as np\n",
        "import matplotlib.pyplot as plt\n",
        "from sklearn.linear_model import LinearRegression\n",
        "from sklearn.svm import SVR\n",
        "from sklearn.metrics import mean_absolute_error\n",
        "from sklearn.metrics import mean_absolute_percentage_error\n",
        "from sklearn.ensemble import RandomForestRegressor\n",
        "from sklearn.metrics import mean_absolute_percentage_error, r2_score"
      ],
      "metadata": {
        "id": "_0mC3Lgww0R2"
      },
      "execution_count": null,
      "outputs": []
    },
    {
      "cell_type": "code",
      "source": [
        "def rmse(y,t):\n",
        "    return np.sqrt(np.mean((y-t)**2))\n",
        "\n",
        "def mape(y_true,y_pred):\n",
        "  return mean_absolute_percentage_error(y_true, y_pred)\n",
        "\n",
        "def mse(y,t):\n",
        "    return np.mean((y-t)**2)"
      ],
      "metadata": {
        "id": "0bngHTrsImfy"
      },
      "execution_count": null,
      "outputs": []
    },
    {
      "cell_type": "markdown",
      "source": [
        "READING THE DATASET"
      ],
      "metadata": {
        "id": "Kd-TVLCCInsM"
      }
    },
    {
      "cell_type": "code",
      "source": [
        "df = pd.read_csv('Soil_20min_3M.csv',index_col='Date_time',parse_dates=True)\n",
        "df['LogParameter'] = np.log(df['s_m_5'])\n",
        "df['DiffLogParameter'] = df['LogParameter'].diff()\n",
        "ntest_cases = 504\n",
        "train_df = df.iloc[:-ntest_cases]\n",
        "test_df = df.iloc[-ntest_cases:]"
      ],
      "metadata": {
        "id": "_ZWo90Z1xn7P"
      },
      "execution_count": null,
      "outputs": []
    },
    {
      "cell_type": "code",
      "source": [
        "df['s_m_5'].plot(figsize=(15,5));"
      ],
      "metadata": {
        "id": "qvg62Rruf_TE"
      },
      "execution_count": null,
      "outputs": []
    },
    {
      "cell_type": "code",
      "source": [
        "#Predict Next values using previous T values\n",
        "\n",
        "series_df = df['DiffLogParameter'].to_numpy()[1:]\n",
        "\n",
        "T = 108 #3 datapoints in 1 hour x 24 hours x 2 days = 144\n",
        "X = []\n",
        "Y = []\n",
        "\n",
        "for t in range(len(series_df) - T):\n",
        "  x = series_df[t:t+T]\n",
        "  X.append(x)\n",
        "  y = series_df[t+T]\n",
        "  Y.append(y)\n",
        "\n",
        "X = np.array(X).reshape(-1,T)\n",
        "Y = np.array(Y)\n",
        "N = len(X)\n",
        "print (\"X.shape\",X.shape,\"Y.shape\",Y.shape)"
      ],
      "metadata": {
        "id": "Hw-zsujKz4fq"
      },
      "execution_count": null,
      "outputs": []
    },
    {
      "cell_type": "code",
      "source": [
        "X_train, Y_train = X[:-ntest_cases], Y[:-ntest_cases]\n",
        "X_test, Y_test = X[-ntest_cases:], Y[-ntest_cases:]\n",
        "print(X_train.shape)\n",
        "print(Y_train.shape)\n",
        "print(X_test.shape)\n",
        "print(Y_test.shape)"
      ],
      "metadata": {
        "id": "e_07idNR1p2X"
      },
      "execution_count": null,
      "outputs": []
    },
    {
      "cell_type": "code",
      "source": [
        "#Boolean index\n",
        "train_idx = df.index <= train_df.index[-1]\n",
        "test_idx = ~train_idx\n",
        "\n",
        "train_idx[:T+1] = False #First T values are not predictable\n",
        "#print(train_idx)\n",
        "#print(\"\")\n",
        "#print(test_idx)"
      ],
      "metadata": {
        "id": "8iCcC3v5_NkZ"
      },
      "execution_count": null,
      "outputs": []
    },
    {
      "cell_type": "code",
      "source": [
        "#Needed to compute un-differenced predictions\n",
        "df['ShiftLogParameter'] = df['LogParameter'].shift(1)\n",
        "prev = df['ShiftLogParameter']"
      ],
      "metadata": {
        "id": "paqHMxy9OE_f"
      },
      "execution_count": null,
      "outputs": []
    },
    {
      "cell_type": "code",
      "source": [
        "# Last - Know Train Value\n",
        "last_train = train_df.iloc[-1]['LogParameter']"
      ],
      "metadata": {
        "id": "ZComxg_8Ob2G"
      },
      "execution_count": null,
      "outputs": []
    },
    {
      "cell_type": "code",
      "source": [
        "#For Multi-OP\n",
        "Tx = T\n",
        "Ty = ntest_cases\n",
        "X = []\n",
        "Y = []\n",
        "for t in range(len(series_df) - Tx - Ty + 1):\n",
        "  x = series_df[t:t+Tx]\n",
        "  X.append(x)\n",
        "  y = series_df[t+Tx:t+Tx+Ty]\n",
        "  Y.append(y)\n",
        "\n",
        "X = np.array(X).reshape(-1,Tx)\n",
        "Y = np.array(Y).reshape(-1,Ty)\n",
        "N = len(X)\n",
        "print(\"X.shape\",X.shape,\"Y.shape\",Y.shape)"
      ],
      "metadata": {
        "id": "LnBlzzzWJHdp"
      },
      "execution_count": null,
      "outputs": []
    },
    {
      "cell_type": "code",
      "source": [
        "X_train_m, Y_train_m = X[:-1], Y[:-1]\n",
        "X_test_m, Y_test_m = X[-1:], Y[-1:]\n",
        "print(X_train.shape)\n",
        "print(Y_train.shape)\n",
        "print(X_test.shape)\n",
        "print(Y_test.shape)"
      ],
      "metadata": {
        "id": "cmo7NJSdJtoK"
      },
      "execution_count": null,
      "outputs": []
    },
    {
      "cell_type": "code",
      "source": [
        "# MAPE - different metric\n",
        "test_log_pass = df.iloc[-ntest_cases:]['LogParameter']"
      ],
      "metadata": {
        "id": "LxrB0H9PJ8vS"
      },
      "execution_count": null,
      "outputs": []
    },
    {
      "cell_type": "markdown",
      "source": [
        "TEST OTHER MODELS"
      ],
      "metadata": {
        "id": "1OgfkTE-L91r"
      }
    },
    {
      "cell_type": "markdown",
      "source": [
        "[-5240] means only 80% of data is used for training the model, out of 6551 rows"
      ],
      "metadata": {
        "id": "B8rfiibmbDdb"
      }
    },
    {
      "cell_type": "code",
      "source": [
        "def one_step_and_multistep(model,name):\n",
        "  model.fit(X_train[-5240:],Y_train[-5240:])\n",
        "  print(\"One-step forecast:\",name)\n",
        "  #print(\"Train R2:\",model.score(Xtrain,Ytrain))\n",
        "  #print(\"Test R2 (1step):\",model.score(Xtest,Ytest))\n",
        "\n",
        "  #store the onestep forecast\n",
        "  df.loc[train_idx,f'{name}_1step_train'] = prev[train_idx] + model.predict(X_train)\n",
        "  df.loc[test_idx,f'{name}_1step_test'] = prev[test_idx] + model.predict(X_test)\n",
        "\n",
        "  #generating multistep forecast\n",
        "  multistep_predictions = []\n",
        "\n",
        "  #first test input\n",
        "  last_x = X_test[0]\n",
        "\n",
        "  while len(multistep_predictions) <ntest_cases:\n",
        "    p = model.predict(last_x.reshape(1,-1))[0]\n",
        "\n",
        "    #updating the predictions list\n",
        "    multistep_predictions.append(p)\n",
        "\n",
        "    #update the input provided\n",
        "    last_x = np.roll(last_x,-1)\n",
        "    last_x[-1] = p\n",
        "\n",
        "  #store multistep forecast\n",
        "  df.loc[test_idx, f'{name}_multistep_test'] = last_train + np.cumsum(multistep_predictions)\n",
        "\n",
        "  #MAPE of multi-stp forecast\n",
        "  ##rmse_score = rmse(np.exp(test_log_pass),np.exp(df.loc[test_idx,f'{name}_multistep_test']))\n",
        "  ##print(\"Test RMSE (multi-step):\",rmse_score)\n",
        "  ##mape_score = mape(np.exp(test_log_pass),np.exp(df.loc[test_idx,f'{name}_multistep_test']))\n",
        "  ##print(\"Test MAPE (multi-step):\",mape_score)\n",
        "\n",
        "  rmse_score = rmse(np.exp(test_log_pass),np.exp(df.loc[test_idx,f'{name}_1step_test']))\n",
        "  print(\"Test RMSE (one-step):\",rmse_score)\n",
        "  mape_score = mape(np.exp(test_log_pass),np.exp(df.loc[test_idx,f'{name}_1step_test']))\n",
        "  print(\"Test MAPE (one-step):\",mape_score)\n",
        "  mse_score = mse(np.exp(test_log_pass),np.exp(df.loc[test_idx,f'{name}_1step_test']))\n",
        "  print(\"Test MSE (one-step):\",mse_score)\n",
        "  r2print_score = r2_score(np.exp(test_log_pass),np.exp(df.loc[test_idx,f'{name}_1step_test']))\n",
        "  print(\"Test R2 (one-step):\",r2print_score)\n",
        "\n",
        "  print(\"\\n\")\n",
        "\n",
        "  rmse_score = rmse(np.exp(test_log_pass),np.exp(df.loc[test_idx,f'{name}_multistep_test']))\n",
        "  print(\"Test RMSE (multi-step):\",rmse_score)\n",
        "  mape_score = mape(np.exp(test_log_pass),np.exp(df.loc[test_idx,f'{name}_multistep_test']))\n",
        "  print(\"Test MAPE (multi-step):\",mape_score)\n",
        "  mse_score = mse(np.exp(test_log_pass),np.exp(df.loc[test_idx,f'{name}_multistep_test']))\n",
        "  print(\"Test MSE (multi-step):\",mse_score)\n",
        "  r2print_score = r2_score(np.exp(test_log_pass),np.exp(df.loc[test_idx,f'{name}_multistep_test']))\n",
        "  print(\"Test R2 (multi-step):\",r2print_score)\n",
        "\n",
        "  #Plot 1-step and multistep forecast\n",
        "  cols = ['LogParameter',f'{name}_1step_train',f'{name}_1step_test',f'{name}_multistep_test']\n",
        "  df_temp = np.exp(df[cols][-ntest_cases:])\n",
        "  df_temp.plot(figsize=(15,5));\n",
        "  df_temp = np.exp(df[cols][-(3*ntest_cases):])\n",
        "  df_temp.plot(figsize=(15,5));"
      ],
      "metadata": {
        "id": "cqxERd8sL3Ch"
      },
      "execution_count": null,
      "outputs": []
    },
    {
      "cell_type": "code",
      "source": [
        "one_step_and_multistep(LinearRegression(),\"LR\")"
      ],
      "metadata": {
        "id": "HuwHxjWhKSN6"
      },
      "execution_count": null,
      "outputs": []
    },
    {
      "cell_type": "code",
      "source": [
        "one_step_and_multistep(SVR(),\"SVR\")"
      ],
      "metadata": {
        "id": "jJUuBEujQCC_"
      },
      "execution_count": null,
      "outputs": []
    },
    {
      "cell_type": "code",
      "source": [
        "one_step_and_multistep(RandomForestRegressor(),\"RF\")"
      ],
      "metadata": {
        "id": "yX_LTkHfSway"
      },
      "execution_count": null,
      "outputs": []
    },
    {
      "cell_type": "markdown",
      "source": [
        "MULTI OUTPUT FORECAST MODELS"
      ],
      "metadata": {
        "id": "nnHWfkzvPWhW"
      }
    },
    {
      "cell_type": "code",
      "source": [
        "def multi_output(model,name):\n",
        "  model.fit(X_train_m[-5240:],Y_train_m[-5240:])\n",
        "\n",
        "  #save multi-output forecast to dataframe\n",
        "  df.loc[test_idx,f'{name}_multioutput'] = last_train + np.cumsum(model.predict(X_test_m).flatten())\n",
        "\n",
        "  rmse_score = rmse(np.exp(test_log_pass), np.exp(df.loc[test_idx, f'{name}_multioutput']))\n",
        "  print(\"Test RMSE (multi-output):\",rmse_score)\n",
        "  mape_score = mape(np.exp(test_log_pass), np.exp(df.loc[test_idx, f'{name}_multioutput']))\n",
        "  print(\"Test MAPE (multi-output):\",mape_score)\n",
        "  mse_score = mse(np.exp(test_log_pass), np.exp(df.loc[test_idx, f'{name}_multioutput']))\n",
        "  print(\"Test MSE (multi-output):\",mse_score)\n",
        "  r2_print_score = r2_score(np.exp(test_log_pass), np.exp(df.loc[test_idx, f'{name}_multioutput']))\n",
        "  print(\"Test R2 (multi-output):\",r2_print_score)\n",
        "\n",
        "  print(\"\\n\")\n",
        "\n",
        "  rmse_score = rmse(np.exp(test_log_pass),np.exp(df.loc[test_idx,f'{name}_1step_test']))\n",
        "  print(\"Test RMSE (one-step):\",rmse_score)\n",
        "  mape_score = mape(np.exp(test_log_pass),np.exp(df.loc[test_idx,f'{name}_1step_test']))\n",
        "  print(\"Test MAPE (one-step):\",mape_score)\n",
        "  mse_score = mse(np.exp(test_log_pass),np.exp(df.loc[test_idx,f'{name}_1step_test']))\n",
        "  print(\"Test MSE (one-step):\",mse_score)\n",
        "  r2print_score = r2_score(np.exp(test_log_pass),np.exp(df.loc[test_idx,f'{name}_1step_test']))\n",
        "  print(\"Test R2 (one-step):\",r2_print_score)\n",
        "\n",
        "  #plot all forecasts\n",
        "  #assume that previous functions have run\n",
        "  cols = ['LogParameter',f'{name}_1step_train',f'{name}_1step_test',f'{name}_multistep_test',f'{name}_multioutput']\n",
        "  df_temp = np.exp(df[cols][-ntest_cases:])\n",
        "  df_temp.plot(figsize=(15,5));\n",
        "  df_temp = np.exp(df[cols][-(3*ntest_cases):])\n",
        "  df_temp.plot(figsize=(15,5));"
      ],
      "metadata": {
        "id": "bTPXajifS9Z2"
      },
      "execution_count": null,
      "outputs": []
    },
    {
      "cell_type": "code",
      "source": [
        "multi_output(LinearRegression(),\"LR\")"
      ],
      "metadata": {
        "id": "sXsy8j_MKaTX"
      },
      "execution_count": null,
      "outputs": []
    },
    {
      "cell_type": "code",
      "source": [
        "#multi_output_forecast(SVR(),\"SVR\") #cannot handle multi-output!\n",
        "#But: you can still train multiple seperate SVRs"
      ],
      "metadata": {
        "id": "my-bElUUUxIS"
      },
      "execution_count": null,
      "outputs": []
    },
    {
      "cell_type": "code",
      "source": [
        "multi_output(RandomForestRegressor(),\"RF\")"
      ],
      "metadata": {
        "id": "kxoF0gnKUzB4"
      },
      "execution_count": null,
      "outputs": []
    }
  ]
}